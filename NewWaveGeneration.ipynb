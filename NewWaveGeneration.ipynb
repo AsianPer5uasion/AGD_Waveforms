{
 "cells": [
  {
   "cell_type": "code",
   "execution_count": null,
   "metadata": {},
   "outputs": [],
   "source": [
    "%matplotlib widget\n",
    "\n",
    "import matplotlib.pyplot as plt\n",
    "import random\n",
    "import numpy as np\n",
    "import os\n",
    "import pandas as pd\n",
    " \n",
    "from functions import *\n",
    "from config import *\n",
    "from waveGenFunctions import *\n",
    "\n",
    "%load_ext autoreload\n",
    "%autoreload 2"
   ]
  },
  {
   "cell_type": "markdown",
   "metadata": {},
   "source": [
    "#### Generation of the different waves -- Examples"
   ]
  },
  {
   "cell_type": "code",
   "execution_count": null,
   "metadata": {},
   "outputs": [],
   "source": [
    "wav = genWave()\n",
    "print(\"Wave: \", wav)\n",
    "time_wav = to_time_domain(wav)\n",
    "print(\"Time Wave: \", time_wav)\n",
    "input = writeForLTspice(time_wav, \"test2\", False)\n",
    "print(\"Input: \", input)\n",
    "\n",
    "plotA(time_wav)"
   ]
  },
  {
   "cell_type": "markdown",
   "metadata": {},
   "source": [
    "### How you would go about generating the waves and applying them to the DPT\n",
    "\n",
    "The files and waveform information are stored in fileLocation for later recall. Pass writeToDPT=True if you want to apply it to the DPT simulation."
   ]
  },
  {
   "cell_type": "code",
   "execution_count": null,
   "metadata": {},
   "outputs": [],
   "source": [
    "charge_of_pulse()\n",
    "generateAndWriteWaves(numberOfWaves=10, fileLocation=\"test\", writeToDPT=True, plot=False)\n",
    "\n",
    "# applyWaveformsToDPT(\"test4\")"
   ]
  },
  {
   "cell_type": "markdown",
   "metadata": {},
   "source": [
    "### Post-sim\n",
    "After running the sim, the outputs can be extracted like this. Should be altered to use the LTSpice interface library."
   ]
  },
  {
   "cell_type": "code",
   "execution_count": null,
   "metadata": {},
   "outputs": [],
   "source": [
    "extract_measurement_data(DPT_OUT_DIR + \"DPT_AGD_IDEALISED_COMP.log\",\"perovershoot\")\n",
    "extract_measurement_data(DPT_OUT_DIR + \"DPT_AGD_IDEALISED_COMP.log\",\"switching_energy_loss\")"
   ]
  }
 ],
 "metadata": {
  "kernelspec": {
   "display_name": ".venv",
   "language": "python",
   "name": "python3"
  },
  "language_info": {
   "codemirror_mode": {
    "name": "ipython",
    "version": 3
   },
   "file_extension": ".py",
   "mimetype": "text/x-python",
   "name": "python",
   "nbconvert_exporter": "python",
   "pygments_lexer": "ipython3",
   "version": "3.12.7"
  }
 },
 "nbformat": 4,
 "nbformat_minor": 2
}
